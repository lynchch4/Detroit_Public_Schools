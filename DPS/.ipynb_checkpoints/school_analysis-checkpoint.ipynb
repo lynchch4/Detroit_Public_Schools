{
 "cells": [
  {
   "cell_type": "code",
   "execution_count": 2,
   "id": "ab4593af",
   "metadata": {},
   "outputs": [],
   "source": [
    "import pandas as pd\n",
    "import matplotlib.pyplot as plt\n",
    "from thefuzz import process"
   ]
  },
  {
   "cell_type": "code",
   "execution_count": 3,
   "id": "6c68015d",
   "metadata": {},
   "outputs": [],
   "source": [
    "# create enrollment count DF drop rows w/out building codes\n",
    "df_sc1 = pd.read_csv(\"Hiring_Exercise_Files/Student Count File 19-20.csv\")\n",
    "df_sc2 = pd.read_csv(\"Hiring_Exercise_Files/Student Count File 20-21.csv\")\n",
    "df_sc3 = pd.read_csv(\"Hiring_Exercise_Files/Student Count File 21-22.csv\")\n",
    "df_sc4 = pd.read_csv(\"Hiring_Exercise_Files/Student Count File 22-23.csv\")\n",
    "\n",
    "df_school_count = pd.DataFrame()\n",
    "frame1 = [df_sc1, df_sc2, df_sc3, df_sc4]\n",
    "\n",
    "for df in frame1:\n",
    "    df_school_count = df_school_count.append(df)\n",
    "\n",
    "df_school_count = df_school_count[df_school_count['BuildingCode'].notna()]"
   ]
  },
  {
   "cell_type": "code",
   "execution_count": 4,
   "id": "8b896729",
   "metadata": {},
   "outputs": [],
   "source": [
    "# create school address DF drop rows w/out building codes\n",
    "\n",
    "df_ee1 = pd.read_csv(\"Hiring_Exercise_Files/EEM File 19-20.csv\")\n",
    "df_ee2 = pd.read_csv(\"Hiring_Exercise_Files/EEM File 20-21.csv\")\n",
    "df_ee3 = pd.read_csv(\"Hiring_Exercise_Files/EEM File 21-22.csv\")\n",
    "df_ee4 = pd.read_csv(\"Hiring_Exercise_Files/EEM File 22-23.csv\")\n",
    "\n",
    "\n",
    "df_eem = pd.DataFrame()\n",
    "frame2 = [df_ee1, df_ee2, df_ee3, df_ee4]\n",
    "\n",
    "for df in frame2:\n",
    "    df_eem = df_eem.append(df)\n",
    "    \n",
    "df_eem = df_eem[df_eem['BuildingCode'].notna()]"
   ]
  },
  {
   "cell_type": "code",
   "execution_count": 5,
   "id": "9a24bd45",
   "metadata": {},
   "outputs": [],
   "source": [
    "# merge city address with school count on district codes\n",
    "\n",
    "df_city = df_eem[['DistrictCode', 'CITY']].drop_duplicates(subset='DistrictCode').reset_index(drop=True)\n",
    "\n",
    "df_count = df_school_count.merge(df_city, how='left', on='DistrictCode')\n",
    "\n",
    "df_count['SchoolYear'] = df_count['SchoolYear'].str.replace(' School Year','')\n",
    "\n",
    "df_compare = df_count[['SchoolYear', 'CountyName', 'CITY', 'TOTAL_ENROLLMENT', 'EntityType']]"
   ]
  },
  {
   "cell_type": "code",
   "execution_count": 6,
   "id": "cb9361c1",
   "metadata": {},
   "outputs": [],
   "source": [
    "# create dataframes based on listed criteria\n",
    "\n",
    "df_detroit = df_compare.loc[df_compare[\"CITY\"]==\"Detroit\"]\n",
    "\n",
    "df_psa = df_detroit.loc[df_detroit['EntityType']=='PSA School']\n",
    "df_lea = df_detroit.loc[df_detroit['EntityType']=='LEA School']\n",
    "\n",
    "df_group_psa = df_psa[['SchoolYear', 'TOTAL_ENROLLMENT']].groupby(by=[\"SchoolYear\"]).sum()\n",
    "df_group_psa['Percentage Change'] = round(df_group_psa['TOTAL_ENROLLMENT']/df_group_psa['TOTAL_ENROLLMENT'][0], 3)\n",
    "\n",
    "df_group_lea = df_lea[['SchoolYear', 'TOTAL_ENROLLMENT']].groupby(by=[\"SchoolYear\"]).sum()\n",
    "df_group_lea['Percentage Change'] = round(df_group_lea['TOTAL_ENROLLMENT']/df_group_lea['TOTAL_ENROLLMENT'][0], 3)\n",
    "\n",
    "df_wayne = df_compare.loc[df_compare[\"CountyName\"]==\"Wayne\"]\n",
    "df_group_wayne = df_wayne[['SchoolYear', 'TOTAL_ENROLLMENT']].groupby(by=[\"SchoolYear\"]).sum()\n",
    "df_group_wayne['Percentage Change'] = round(df_group_wayne['TOTAL_ENROLLMENT']/df_group_wayne['TOTAL_ENROLLMENT'][0], 3)\n",
    "\n",
    "df_group_michigan = df_count[['SchoolYear', 'TOTAL_ENROLLMENT']].groupby(by=[\"SchoolYear\"]).sum()\n",
    "df_group_michigan['Percentage Change'] = round(df_group_michigan['TOTAL_ENROLLMENT']/df_group_michigan['TOTAL_ENROLLMENT'][0], 3)"
   ]
  },
  {
   "cell_type": "code",
   "execution_count": 7,
   "id": "4d25f786",
   "metadata": {
    "scrolled": true
   },
   "outputs": [
    {
     "name": "stdout",
     "output_type": "stream",
     "text": [
      "Detroit Public School Enrollment\n",
      "            TOTAL_ENROLLMENT  Percentage Change\n",
      "SchoolYear                                     \n",
      "19 - 20                34876              1.000\n",
      "20 - 21                33053              0.948\n",
      "21 - 22                32460              0.931\n",
      "22 - 23                31918              0.915\n",
      "\n",
      "\n",
      "Detroit Charter School Enrollment\n",
      "            TOTAL_ENROLLMENT  Percentage Change\n",
      "SchoolYear                                     \n",
      "19 - 20                50515              1.000\n",
      "20 - 21                48832              0.967\n",
      "21 - 22                48220              0.955\n",
      "22 - 23                48452              0.959\n",
      "\n",
      "\n",
      "Wayne County School Enrollment\n",
      "            TOTAL_ENROLLMENT  Percentage Change\n",
      "SchoolYear                                     \n",
      "19 - 20               271308              1.000\n",
      "20 - 21               262647              0.968\n",
      "21 - 22               260201              0.959\n",
      "22 - 23               258926              0.954\n",
      "\n",
      "\n",
      "Michigan School Enrollment\n",
      "            TOTAL_ENROLLMENT  Percentage Change\n",
      "SchoolYear                                     \n",
      "19 - 20              1451938              1.000\n",
      "20 - 21              1405759              0.968\n",
      "21 - 22              1399986              0.964\n",
      "22 - 23              1391109              0.958\n"
     ]
    }
   ],
   "source": [
    "print(\"Detroit Public School Enrollment\")\n",
    "print(df_group_psa)\n",
    "print(\"\")\n",
    "print(\"\")\n",
    "print(\"Detroit Charter School Enrollment\")\n",
    "print(df_group_lea)\n",
    "print(\"\")\n",
    "print(\"\")\n",
    "print(\"Wayne County School Enrollment\")\n",
    "print(df_group_wayne)\n",
    "print(\"\")\n",
    "print(\"\")\n",
    "print(\"Michigan School Enrollment\")\n",
    "print(df_group_michigan)"
   ]
  },
  {
   "cell_type": "code",
   "execution_count": 8,
   "id": "c44365dd",
   "metadata": {},
   "outputs": [
    {
     "data": {
      "image/png": "[encoded data removed]",
      "text/plain": [
       "<Figure size 432x288 with 1 Axes>"
      ]
     },
     "metadata": {
      "needs_background": "light"
     },
     "output_type": "display_data"
    }
   ],
   "source": [
    "# graph grouped dataframe \n",
    "\n",
    "ax = df_group_psa['Percentage Change'].plot(legend=True)\n",
    "bx = df_group_lea['Percentage Change'].plot(legend=True)\n",
    "cx = df_group_wayne['Percentage Change'].plot(legend=True)\n",
    "dx = df_group_michigan['Percentage Change'].plot(legend=True)\n",
    "\n",
    "ax.legend(['DPS', 'Detroit Charter', 'Wayne County', 'State of Michigan'])\n",
    "\n",
    "ax.set_ylabel('Enrolled %')\n",
    "ax.set_title('Percentage Change in Enrollment')\n",
    "ax\n",
    "ax.figure.savefig('Images\\school_enrollment.png')"
   ]
  },
  {
   "cell_type": "code",
   "execution_count": 9,
   "id": "01df6ba5",
   "metadata": {},
   "outputs": [],
   "source": [
    "# create datafram for feader patterns\n",
    "df_slfp = pd.read_excel(\"Hiring_Exercise_Files/School List_Feeder Patterns.xlsx\", engine='openpyxl')"
   ]
  },
  {
   "cell_type": "code",
   "execution_count": 10,
   "id": "25025241",
   "metadata": {},
   "outputs": [],
   "source": [
    "# Limit dataframe to schooles located in Detroit and fuzzy match to merge HS Feeders to datafram\n",
    "\n",
    "df_detroit_full = df_count[['SchoolYear', 'CountyName', 'CITY', 'TOTAL_ENROLLMENT',\\\n",
    "                            'EntityType','BuildingName', 'SchoolLevel']].loc[df_compare[\"CITY\"]==\"Detroit\"]\n",
    "\n",
    "best_name = lambda x: process.extractOne(x, df_slfp[\"schoolName\"])[2]\n",
    "df_detroit_full['High_School'] = df_slfp.loc[df_detroit_full[\"BuildingName\"].map(best_name).values, 'HS Feeder'].values"
   ]
  },
  {
   "cell_type": "code",
   "execution_count": 11,
   "id": "cab44ecf",
   "metadata": {},
   "outputs": [],
   "source": [
    "# create list of schools names and replace with recognizable strings\n",
    "\n",
    "sch_name_list = df_slfp['schoolName'].tolist()\n",
    "\n",
    "sch_name_list2 = [names.replace('AL', 'A.L.') for names in sch_name_list]\n",
    "sch_name_list3 = [names.replace('JR', 'R.') for names in sch_name_list2]\n",
    "sch_name_list4 = [names.replace('EEVPA', 'Village') for names in sch_name_list3]\n",
    "sch_name_list5 = [names.replace('Duke Ellington', 'Duke') for names in sch_name_list4]\n",
    "sch_name_list6 = [names.replace('Fisher Lower', 'Fisher') for names in sch_name_list5]\n",
    "sch_name_list7 = [names.replace('Ann Arbor', 'Arbor') for names in sch_name_list6]\n",
    "sch_name_list8 = [names.replace('Brenda Scott', 'Brenda') for names in sch_name_list7]\n",
    "sch_name_list9 = [names.replace('Coleman Young', 'Coleman') for names in sch_name_list8]\n",
    "sch_name_list10 = [names.replace('Greenfield Union', 'Union') for names in sch_name_list9]\n",
    "sch_name_list11 = [names.replace('Henry Ford', 'Henry') for names in sch_name_list10]\n",
    "sch_name_list12 = [names.replace('Mark Twain', 'Twain') for names in sch_name_list11]\n",
    "sch_name_list13 = [names.replace('Palmer Park', 'Palmer') for names in sch_name_list12]\n",
    "sch_name_list14 = [names.replace('Ronald Brown', 'Ronald') for names in sch_name_list13]\n",
    "sch_name_list15 = [names.replace('Sampson Webber', 'Sampson') for names in sch_name_list14]\n",
    "\n"
   ]
  },
  {
   "cell_type": "code",
   "execution_count": 12,
   "id": "36443607",
   "metadata": {},
   "outputs": [],
   "source": [
    "# switch feeder schools that were applied to wroong highschool\n",
    "\n",
    "df_feeder_schools = pd.DataFrame()\n",
    "\n",
    "for name in sch_name_list15:\n",
    "    df_feeder_schools = df_feeder_schools.append(df_detroit_full[df_detroit_full['BuildingName'].str.contains(name)])\n",
    "df_feeder_schools = df_feeder_schools.loc[df_feeder_schools[\"EntityType\"]==\"LEA School\"]\n",
    "\n",
    "df_feeder_schools.loc[df_feeder_schools['BuildingName']=='East English Village Preparatory Academy at Finney']=\\\n",
    "df_feeder_schools.loc[df_feeder_schools['BuildingName']=='East English Village Preparatory Academy at Finney']\\\n",
    ".replace(\"WESTERN\",\"EEVPA\")\n",
    "\n",
    "df_feeder_schools.loc[df_feeder_schools['BuildingName']=='Bow Elementary-Middle School']=\\\n",
    "df_feeder_schools.loc[df_feeder_schools['BuildingName']=='Bow Elementary-Middle School']\\\n",
    ".replace(\"WESTERN\",\"FORD\")\n",
    "\n",
    "df_feeder_schools.loc[df_feeder_schools['BuildingName']=='Bagley Elementary School of Journalism and Technology']=\\\n",
    "df_feeder_schools.loc[df_feeder_schools['BuildingName']=='Bagley Elementary School of Journalism and Technology']\\\n",
    ".replace(\"WESTERN\",\"MUMFORD\")\n"
   ]
  },
  {
   "cell_type": "code",
   "execution_count": 14,
   "id": "d0e3aeaf",
   "metadata": {},
   "outputs": [
    {
     "name": "stdout",
     "output_type": "stream",
     "text": [
      "                         TOTAL_ENROLLMENT  Percentage_Change\n",
      "High_School  SchoolYear                                     \n",
      "CENTRAL      19 - 20                 1398              1.000\n",
      "             20 - 21                 1326              0.948\n",
      "             21 - 22                 1238              0.886\n",
      "             22 - 23                 1501              1.074\n",
      "CODY         19 - 20                 6172              1.000\n",
      "             20 - 21                 5722              0.927\n",
      "             21 - 22                 5527              0.895\n",
      "             22 - 23                 5658              0.917\n",
      "DENBY        19 - 20                 3332              1.000\n",
      "             20 - 21                 3214              0.965\n",
      "             21 - 22                 2976              0.893\n",
      "             22 - 23                 2961              0.889\n",
      "EEVPA        19 - 20                 3178              1.000\n",
      "             20 - 21                 2895              0.911\n",
      "             21 - 22                 2806              0.883\n",
      "             22 - 23                 2770              0.872\n",
      "FORD         19 - 20                 3965              1.000\n",
      "             20 - 21                 4008              1.011\n",
      "             21 - 22                 3959              0.998\n",
      "             22 - 23                 3987              1.006\n",
      "MUMFORD      19 - 20                 4535              1.000\n",
      "             20 - 21                 4306              0.950\n",
      "             21 - 22                 4294              0.947\n",
      "             22 - 23                 4597              1.014\n",
      "NORTHWESTERN 19 - 20                 1939              1.000\n",
      "             20 - 21                 1898              0.979\n",
      "             21 - 22                 1692              0.873\n",
      "             22 - 23                 1710              0.882\n",
      "OSBORN       19 - 20                 2488              1.000\n",
      "             20 - 21                 2362              0.949\n",
      "             21 - 22                 2250              0.904\n",
      "             22 - 23                 2308              0.928\n",
      "PERSHING     19 - 20                 2410              1.000\n",
      "             20 - 21                 2339              0.971\n",
      "             21 - 22                 2155              0.894\n",
      "             22 - 23                 2238              0.929\n",
      "SOUTHEASTERN 19 - 20                 2940              1.000\n",
      "             20 - 21                 3050              1.037\n",
      "             21 - 22                 3055              1.039\n",
      "             22 - 23                 3229              1.098\n",
      "WESTERN      19 - 20                 6879              1.000\n",
      "             20 - 21                 6776              0.985\n",
      "             21 - 22                 6466              0.940\n",
      "             22 - 23                 6756              0.982\n"
     ]
    }
   ],
   "source": [
    "#group by highschool and school year, add percentage change collumn\n",
    "\n",
    "title = sorted(list(set(df_slfp['HS Feeder'].tolist())))\n",
    "\n",
    "df_group = df_feeder_schools.groupby(['High_School','SchoolYear'])['TOTAL_ENROLLMENT'].sum()\n",
    "\n",
    "df_group = df_group.reset_index()\n",
    "\n",
    "\n",
    "perc_list = []\n",
    "\n",
    "for titles in title:\n",
    "    perc_list.append(round(df_group.loc[df_group['High_School']==titles]['TOTAL_ENROLLMENT']\\\n",
    "    /df_group.loc[df_group['High_School']==titles]['TOTAL_ENROLLMENT'].reset_index(drop=True)[0],3).tolist())\n",
    "\n",
    "flat_perc = []\n",
    "\n",
    "for in_list in perc_list:\n",
    "    for element in in_list:\n",
    "        flat_perc.append(element)\n",
    "df_group[\"Percentage_Change\"] = flat_perc\n",
    "\n",
    "print(df_group.groupby(['High_School', 'SchoolYear']).sum())"
   ]
  },
  {
   "cell_type": "code",
   "execution_count": null,
   "id": "21ed5a0a",
   "metadata": {},
   "outputs": [],
   "source": [
    "# create graph for each  feeder pattern\n",
    "\n",
    "plot = ['ex','fx','gx','hx','ix','jx','kx','lx','mx','nx','ox']\n",
    "\n",
    "title_plot = list(zip(title, plot))\n",
    "\n",
    "for titles, plots in title_plot:\n",
    "    plots = df_group.loc[df_group['High_School']==titles].drop(['High_School', 'TOTAL_ENROLLMENT'], axis=1).\\\n",
    "    groupby(by=[\"SchoolYear\"]).sum()['Percentage_Change'].plot(legend=True, label=titles)\n",
    "plt.ylabel('Enrollment %')\n",
    "plt.legend(bbox_to_anchor=(1.0,1.0)).figure.savefig('Images\\school_feeder.png')"
   ]
  },
  {
   "cell_type": "code",
   "execution_count": 300,
   "id": "fe97ea4a",
   "metadata": {},
   "outputs": [
    {
     "data": {
      "text/plain": [
       "SchoolYear\n",
       "19 - 20    39236\n",
       "20 - 21    37896\n",
       "21 - 22    36418\n",
       "22 - 23    37715\n",
       "Name: TOTAL_ENROLLMENT, dtype: int64"
      ]
     },
     "execution_count": 300,
     "metadata": {},
     "output_type": "execute_result"
    }
   ],
   "source": [
    "#totals for feeder schools\n",
    "df_group_full = df_feeder_schools.groupby(['SchoolYear'])['TOTAL_ENROLLMENT'].sum()\n",
    "df_group_full"
   ]
  },
  {
   "cell_type": "code",
   "execution_count": null,
   "id": "82409558",
   "metadata": {},
   "outputs": [],
   "source": []
  }
 ],
 "metadata": {
  "kernelspec": {
   "display_name": "PythonData",
   "language": "python",
   "name": "pythondata"
  },
  "language_info": {
   "codemirror_mode": {
    "name": "ipython",
    "version": 3
   },
   "file_extension": ".py",
   "mimetype": "text/x-python",
   "name": "python",
   "nbconvert_exporter": "python",
   "pygments_lexer": "ipython3",
   "version": "3.7.7"
  }
 },
 "nbformat": 4,
 "nbformat_minor": 5
}
